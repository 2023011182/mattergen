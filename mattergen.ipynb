{
 "cells": [
  {
   "cell_type": "code",
   "execution_count": 7,
   "id": "54128f57",
   "metadata": {},
   "outputs": [
    {
     "name": "stdout",
     "output_type": "stream",
     "text": [
      "项目路径: /home/wangxinrui/mattergen\n",
      "结果路径: /home/wangxinrui/mattergen/data/generated/lps_2025-08-15_17-44-47\n",
      "运行标签: lps_2025-08-15_17-44-47\n",
      "确认将要使用的路径是字符串: /home/wangxinrui/mattergen/data/generated/lps_2025-08-15_17-44-47\n"
     ]
    }
   ],
   "source": [
    "# Cell 1: 初始化运行参数\n",
    "# ...existing code...\n",
    "from pathlib import Path\n",
    "from datetime import datetime\n",
    "\n",
    "# 保留 Path 对象，便于后续路径拼接\n",
    "PROJ_DIR = Path.home() / \"mattergen\"\n",
    "RUN_TAG = f\"lps_{datetime.now().strftime('%Y-%m-%d_%H-%M-%S')}\"\n",
    "RESULTS_DIR = PROJ_DIR / \"data\" / \"generated\" / RUN_TAG\n",
    "RESULTS_DIR.mkdir(parents=True, exist_ok=True)\n",
    "\n",
    "# 将 Path 和 str 都保留：RESULTS_PATH 为 Path，RESULTS_PATH_STR 为字符串\n",
    "PROJ = str(PROJ_DIR)\n",
    "RESULTS_PATH = RESULTS_DIR\n",
    "RESULTS_PATH_STR = str(RESULTS_DIR)\n",
    "\n",
    "print(\"项目路径:\", PROJ)\n",
    "print(\"结果路径:\", RESULTS_PATH_STR)\n",
    "print(\"运行标签:\", RUN_TAG)\n",
    "print(f\"确认将要使用的路径是字符串: {RESULTS_PATH_STR}\")\n",
    "# ...existing code..."
   ]
  },
  {
   "cell_type": "code",
   "execution_count": 8,
   "id": "201f48d7",
   "metadata": {},
   "outputs": [
    {
     "name": "stdout",
     "output_type": "stream",
     "text": [
      "MODELS_PROJECT_ROOT: /home/wangxinrui/mattergen/mattergen\n",
      "Traceback (most recent call last):\n",
      "  File \"/home/wangxinrui/miniconda3/envs/mattergen/bin/mattergen-generate\", line 10, in <module>\n",
      "    sys.exit(_main())\n",
      "  File \"/home/wangxinrui/mattergen/mattergen/scripts/generate.py\", line 103, in _main\n",
      "    fire.Fire(main)\n",
      "  File \"/home/wangxinrui/miniconda3/envs/mattergen/lib/python3.10/site-packages/fire/core.py\", line 135, in Fire\n",
      "    component_trace = _Fire(component, args, parsed_flag_args, context, name)\n",
      "  File \"/home/wangxinrui/miniconda3/envs/mattergen/lib/python3.10/site-packages/fire/core.py\", line 468, in _Fire\n",
      "    component, remaining_args = _CallAndUpdateTrace(\n",
      "  File \"/home/wangxinrui/miniconda3/envs/mattergen/lib/python3.10/site-packages/fire/core.py\", line 684, in _CallAndUpdateTrace\n",
      "    component = fn(*varargs, **kwargs)\n",
      "  File \"/home/wangxinrui/mattergen/mattergen/scripts/generate.py\", line 59, in main\n",
      "    if not os.path.exists(output_path):\n",
      "  File \"/home/wangxinrui/miniconda3/envs/mattergen/lib/python3.10/genericpath.py\", line 19, in exists\n",
      "    os.stat(path)\n",
      "TypeError: stat: path should be string, bytes, os.PathLike or integer, not set\n"
     ]
    }
   ],
   "source": [
    "# Cell 2: Li–P–S 条件生成（写入到 RESULTS_DIR）\n",
    "# 输出目录作为位置参数；删除未定义的 OUTPUT_DIR/OUTPUT_NAME；修正 --seed\n",
    "!mattergen-generate \"{RESULTS_DIR}\" --pretrained-name=chemical_system_energy_above_hull --batch_size=4 --num_batches=1 --properties_to_condition_on='{\"chemical_system\":\"Li-P-S\", \"energy_above_hull\": 0.03}' --diffusion_guidance_factor=2.0 --temperature=1.0 --num_steps=1000 --save_interval=100 --seed=1234"
   ]
  },
  {
   "cell_type": "code",
   "execution_count": 9,
   "id": "8585bfd7",
   "metadata": {},
   "outputs": [
    {
     "name": "stdout",
     "output_type": "stream",
     "text": [
      "MODELS_PROJECT_ROOT: /home/wangxinrui/mattergen/mattergen\n",
      "INFO: Showing help with the command 'mattergen-generate -- --help'.\n",
      "\n",
      "\u001b[1mNAME\u001b[0m\n",
      "    mattergen-generate - Evaluate diffusion model against molecular metrics.\n",
      "\n",
      "\u001b[1mSYNOPSIS\u001b[0m\n",
      "    mattergen-generate \u001b[4mOUTPUT_PATH\u001b[0m <flags>\n",
      "\n",
      "\u001b[1mDESCRIPTION\u001b[0m\n",
      "    Evaluate diffusion model against molecular metrics.\n",
      "\n",
      "\u001b[1mPOSITIONAL ARGUMENTS\u001b[0m\n",
      "    \u001b[1m\u001b[4mOUTPUT_PATH\u001b[0m\u001b[0m\n",
      "        Type: str\n",
      "        Path to output directory.\n",
      "\n",
      "\u001b[1mFLAGS\u001b[0m\n",
      "    --pretrained_name=\u001b[4mPRETRAINED_NAME\u001b[0m\n",
      "        Type: Optional[Optional]\n",
      "        Default: None\n",
      "    -m, --model_path=\u001b[4mMODEL_PATH\u001b[0m\n",
      "        Type: Optional[str | None]\n",
      "        Default: None\n",
      "        Path to DiffusionLightningModule checkpoint directory.\n",
      "    -b, --batch_size=\u001b[4mBATCH_SIZE\u001b[0m\n",
      "        Type: int\n",
      "        Default: 64\n",
      "    -n, --num_batches=\u001b[4mNUM_BATCHES\u001b[0m\n",
      "        Type: int\n",
      "        Default: 1\n",
      "    --config_overrides=\u001b[4mCONFIG_OVERRIDES\u001b[0m\n",
      "        Type: Optional[list[str] | None]\n",
      "        Default: None\n",
      "        Overrides for the model config, e.g., `model.num_layers=3 model.hidden_dim=128`.\n",
      "    --checkpoint_epoch=\u001b[4mCHECKPOINT_EPOCH\u001b[0m\n",
      "        Type: Union\n",
      "        Default: 'last'\n",
      "    --properties_to_condition_on=\u001b[4mPROPERTIES_TO_CONDITION_ON\u001b[0m\n",
      "        Type: Optional[dict[str, typing.Union[int, float, str, typing.Sequenc...\n",
      "        Default: None\n",
      "        Property value to draw conditional sampling with respect to. When this value is an empty dictionary (default), unconditional samples are drawn.\n",
      "    --sampling_config_path=\u001b[4mSAMPLING_CONFIG_PATH\u001b[0m\n",
      "        Type: Optional[str | None]\n",
      "        Default: None\n",
      "        Path to the sampling config file. (default: None, in which case we use `DEFAULT_SAMPLING_CONFIG_PATH` from explorers.common.utils.utils.py)\n",
      "    --sampling_config_name=\u001b[4mSAMPLING_CONFIG_NAME\u001b[0m\n",
      "        Type: str\n",
      "        Default: 'default'\n",
      "        Name of the sampling config (corresponds to `{sampling_config_path}/{sampling_config_name}.yaml` on disk). (default: default)\n",
      "    --sampling_config_overrides=\u001b[4mSAMPLING_CONFIG_OVERRIDES\u001b[0m\n",
      "        Type: Optional[list[str] | None]\n",
      "        Default: None\n",
      "        Overrides for the sampling config, e.g., `condition_loader_partial.batch_size=32`.\n",
      "    -r, --record_trajectories=\u001b[4mRECORD_TRAJECTORIES\u001b[0m\n",
      "        Type: bool\n",
      "        Default: True\n",
      "    -d, --diffusion_guidance_factor=\u001b[4mDIFFUSION_GUIDANCE_FACTOR\u001b[0m\n",
      "        Type: Optional[float | None]\n",
      "        Default: None\n",
      "    --strict_checkpoint_loading=\u001b[4mSTRICT_CHECKPOINT_LOADING\u001b[0m\n",
      "        Type: bool\n",
      "        Default: True\n",
      "        Whether to raise an exception when not all parameters from the checkpoint can be matched to the model.\n",
      "    -t, --target_compositions=\u001b[4mTARGET_COMPOSITIONS\u001b[0m\n",
      "        Type: Optional[list[dict[s...\n",
      "        Default: None\n",
      "        List of dictionaries with target compositions to condition on. Each dictionary should have the form `{element: number_of_atoms}`. If None, the target compositions are not conditioned on.\n",
      "\n",
      "\u001b[1mNOTES\u001b[0m\n",
      "    You can also use flags syntax for POSITIONAL ARGUMENTS\n"
     ]
    }
   ],
   "source": [
    "# 使用 --debug 或 -v 标志查看更多信息\n",
    "!mattergen-generate --help"
   ]
  },
  {
   "cell_type": "code",
   "execution_count": 10,
   "id": "7429a2c5",
   "metadata": {},
   "outputs": [],
   "source": [
    "# Cell 3: 下载参考集（首次运行或缺文件时）\n",
    "!git lfs pull -I data-release/alex-mp/reference_MP2020correction.gz --exclude=\"\""
   ]
  },
  {
   "cell_type": "code",
   "execution_count": 11,
   "id": "247d07fd",
   "metadata": {},
   "outputs": [
    {
     "name": "stdout",
     "output_type": "stream",
     "text": [
      "MODELS_PROJECT_ROOT: /home/wangxinrui/mattergen/mattergen\n",
      "\u001b[32m2025-08-15 17:45:04.612\u001b[0m | \u001b[1mINFO    \u001b[0m | \u001b[36mmattersim.forcefield.potential\u001b[0m:\u001b[36mfrom_checkpoint\u001b[0m:\u001b[36m877\u001b[0m - \u001b[1mLoading the pre-trained mattersim-v1.0.0-1M.pth model\u001b[0m\n",
      "0it [00:00, ?it/s]Traceback (most recent call last):\n",
      "  File \"/home/wangxinrui/miniconda3/envs/mattergen/bin/mattergen-evaluate\", line 10, in <module>\n",
      "    sys.exit(_main())\n",
      "  File \"/home/wangxinrui/mattergen/mattergen/scripts/evaluate.py\", line 60, in _main\n",
      "    fire.Fire(main)\n",
      "  File \"/home/wangxinrui/miniconda3/envs/mattergen/lib/python3.10/site-packages/fire/core.py\", line 135, in Fire\n",
      "    component_trace = _Fire(component, args, parsed_flag_args, context, name)\n",
      "  File \"/home/wangxinrui/miniconda3/envs/mattergen/lib/python3.10/site-packages/fire/core.py\", line 468, in _Fire\n",
      "    component, remaining_args = _CallAndUpdateTrace(\n",
      "  File \"/home/wangxinrui/miniconda3/envs/mattergen/lib/python3.10/site-packages/fire/core.py\", line 684, in _CallAndUpdateTrace\n",
      "    component = fn(*varargs, **kwargs)\n",
      "  File \"/home/wangxinrui/mattergen/mattergen/scripts/evaluate.py\", line 45, in main\n",
      "    metrics = evaluate(\n",
      "  File \"/home/wangxinrui/mattergen/mattergen/evaluation/evaluate.py\", line 49, in evaluate\n",
      "    relaxed_structures, energies = relax_structures(\n",
      "  File \"/home/wangxinrui/mattergen/mattergen/evaluation/utils/relaxation.py\", line 45, in relax_structures\n",
      "    relaxed_atoms, total_energies = relax_atoms(atoms, device=device, potential_load_path=potential_load_path, output_path=output_path, **kwargs)\n",
      "  File \"/home/wangxinrui/mattergen/mattergen/evaluation/utils/relaxation.py\", line 26, in relax_atoms\n",
      "    relaxation_trajectories = batch_relaxer.relax(atoms)\n",
      "  File \"/home/wangxinrui/miniconda3/envs/mattergen/lib/python3.10/site-packages/mattersim/applications/batch_relax.py\", line 166, in relax\n",
      "    self.step_batch()\n",
      "  File \"/home/wangxinrui/miniconda3/envs/mattergen/lib/python3.10/site-packages/mattersim/applications/batch_relax.py\", line 96, in step_batch\n",
      "    dataloader = build_dataloader(\n",
      "  File \"/home/wangxinrui/miniconda3/envs/mattergen/lib/python3.10/site-packages/mattersim/datasets/utils/build.py\", line 117, in build_dataloader\n",
      "    return DataLoader_pyg(\n",
      "  File \"/home/wangxinrui/miniconda3/envs/mattergen/lib/python3.10/site-packages/torch_geometric/loader/dataloader.py\", line 87, in __init__\n",
      "    super().__init__(\n",
      "  File \"/home/wangxinrui/miniconda3/envs/mattergen/lib/python3.10/site-packages/torch/utils/data/dataloader.py\", line 356, in __init__\n",
      "    batch_sampler = BatchSampler(sampler, batch_size, drop_last)\n",
      "  File \"/home/wangxinrui/miniconda3/envs/mattergen/lib/python3.10/site-packages/torch/utils/data/sampler.py\", line 267, in __init__\n",
      "    raise ValueError(f\"batch_size should be a positive integer value, but got batch_size={batch_size}\")\n",
      "ValueError: batch_size should be a positive integer value, but got batch_size=0\n",
      "0it [00:00, ?it/s]\n"
     ]
    }
   ],
   "source": [
    "# Cell 4: 评估（松弛 + 指标）\n",
    "!mattergen-evaluate --structures_path=\"{RESULTS_DIR}\" --relax=True --structure_matcher=disordered --save_as=\"{RESULTS_DIR}/metrics.json\""
   ]
  },
  {
   "cell_type": "code",
   "execution_count": 12,
   "id": "7e58630d",
   "metadata": {},
   "outputs": [
    {
     "ename": "FileNotFoundError",
     "evalue": "[Errno 2] No such file or directory: '/home/wangxinrui/mattergen/data/generated/lps_2025-08-15_17-44-47/metrics.json'",
     "output_type": "error",
     "traceback": [
      "\u001b[0;31m---------------------------------------------------------------------------\u001b[0m",
      "\u001b[0;31mFileNotFoundError\u001b[0m                         Traceback (most recent call last)",
      "Cell \u001b[0;32mIn[12], line 6\u001b[0m\n\u001b[1;32m      2\u001b[0m \u001b[38;5;28;01mimport\u001b[39;00m\u001b[38;5;250m \u001b[39m\u001b[38;5;21;01mjson\u001b[39;00m\u001b[38;5;241m,\u001b[39m\u001b[38;5;250m \u001b[39m\u001b[38;5;21;01mcsv\u001b[39;00m\u001b[38;5;241m,\u001b[39m\u001b[38;5;250m \u001b[39m\u001b[38;5;21;01mre\u001b[39;00m\n\u001b[1;32m      4\u001b[0m metrics_file \u001b[38;5;241m=\u001b[39m RESULTS_DIR \u001b[38;5;241m/\u001b[39m \u001b[38;5;124m\"\u001b[39m\u001b[38;5;124mmetrics.json\u001b[39m\u001b[38;5;124m\"\u001b[39m\n\u001b[0;32m----> 6\u001b[0m \u001b[38;5;28;01mwith\u001b[39;00m \u001b[38;5;28;43mopen\u001b[39;49m\u001b[43m(\u001b[49m\u001b[43mmetrics_file\u001b[49m\u001b[43m,\u001b[49m\u001b[43m \u001b[49m\u001b[38;5;124;43m\"\u001b[39;49m\u001b[38;5;124;43mr\u001b[39;49m\u001b[38;5;124;43m\"\u001b[39;49m\u001b[43m)\u001b[49m \u001b[38;5;28;01mas\u001b[39;00m f:\n\u001b[1;32m      7\u001b[0m     metrics \u001b[38;5;241m=\u001b[39m json\u001b[38;5;241m.\u001b[39mload(f)\n\u001b[1;32m      9\u001b[0m items \u001b[38;5;241m=\u001b[39m metrics \u001b[38;5;28;01mif\u001b[39;00m \u001b[38;5;28misinstance\u001b[39m(metrics, \u001b[38;5;28mlist\u001b[39m) \u001b[38;5;28;01melse\u001b[39;00m metrics\u001b[38;5;241m.\u001b[39mget(\u001b[38;5;124m\"\u001b[39m\u001b[38;5;124mitems\u001b[39m\u001b[38;5;124m\"\u001b[39m, [])\n",
      "File \u001b[0;32m~/miniconda3/envs/mattergen/lib/python3.10/site-packages/IPython/core/interactiveshell.py:324\u001b[0m, in \u001b[0;36m_modified_open\u001b[0;34m(file, *args, **kwargs)\u001b[0m\n\u001b[1;32m    317\u001b[0m \u001b[38;5;28;01mif\u001b[39;00m file \u001b[38;5;129;01min\u001b[39;00m {\u001b[38;5;241m0\u001b[39m, \u001b[38;5;241m1\u001b[39m, \u001b[38;5;241m2\u001b[39m}:\n\u001b[1;32m    318\u001b[0m     \u001b[38;5;28;01mraise\u001b[39;00m \u001b[38;5;167;01mValueError\u001b[39;00m(\n\u001b[1;32m    319\u001b[0m         \u001b[38;5;124mf\u001b[39m\u001b[38;5;124m\"\u001b[39m\u001b[38;5;124mIPython won\u001b[39m\u001b[38;5;124m'\u001b[39m\u001b[38;5;124mt let you open fd=\u001b[39m\u001b[38;5;132;01m{\u001b[39;00mfile\u001b[38;5;132;01m}\u001b[39;00m\u001b[38;5;124m by default \u001b[39m\u001b[38;5;124m\"\u001b[39m\n\u001b[1;32m    320\u001b[0m         \u001b[38;5;124m\"\u001b[39m\u001b[38;5;124mas it is likely to crash IPython. If you know what you are doing, \u001b[39m\u001b[38;5;124m\"\u001b[39m\n\u001b[1;32m    321\u001b[0m         \u001b[38;5;124m\"\u001b[39m\u001b[38;5;124myou can use builtins\u001b[39m\u001b[38;5;124m'\u001b[39m\u001b[38;5;124m open.\u001b[39m\u001b[38;5;124m\"\u001b[39m\n\u001b[1;32m    322\u001b[0m     )\n\u001b[0;32m--> 324\u001b[0m \u001b[38;5;28;01mreturn\u001b[39;00m \u001b[43mio_open\u001b[49m\u001b[43m(\u001b[49m\u001b[43mfile\u001b[49m\u001b[43m,\u001b[49m\u001b[43m \u001b[49m\u001b[38;5;241;43m*\u001b[39;49m\u001b[43margs\u001b[49m\u001b[43m,\u001b[49m\u001b[43m \u001b[49m\u001b[38;5;241;43m*\u001b[39;49m\u001b[38;5;241;43m*\u001b[39;49m\u001b[43mkwargs\u001b[49m\u001b[43m)\u001b[49m\n",
      "\u001b[0;31mFileNotFoundError\u001b[0m: [Errno 2] No such file or directory: '/home/wangxinrui/mattergen/data/generated/lps_2025-08-15_17-44-47/metrics.json'"
     ]
    }
   ],
   "source": [
    "# Cell 5: 从 metrics.json 筛选稳定 Li–P–S 候选\n",
    "import json, csv, re\n",
    "\n",
    "metrics_file = RESULTS_DIR / \"metrics.json\"\n",
    "\n",
    "with open(metrics_file, \"r\") as f:\n",
    "    metrics = json.load(f)\n",
    "\n",
    "items = metrics if isinstance(metrics, list) else metrics.get(\"items\", [])\n",
    "\n",
    "def has_lps(formula):\n",
    "    return all(x in formula for x in [\"Li\",\"P\",\"S\"])\n",
    "\n",
    "rows = []\n",
    "for i, it in enumerate(items):\n",
    "    cif_name = it.get(\"cif_filename\") or it.get(\"cif_file\") or f\"struct_{i}.cif\"\n",
    "    formula = it.get(\"formula\") or it.get(\"reduced_formula\") or \"Unknown\"\n",
    "    ehull = it.get(\"energy_above_hull\") or it.get(\"e_above_hull\") or None\n",
    "    if formula == \"Unknown\":\n",
    "        m = re.search(r'([A-Z][a-z]?\\d*)+', cif_name)\n",
    "        if m:\n",
    "            formula = m.group(0)\n",
    "    if ehull is None:\n",
    "        continue\n",
    "    if has_lps(formula) and float(ehull) <= 0.05:\n",
    "        rows.append({\n",
    "            \"cif_file\": cif_name,\n",
    "            \"source_file\": RUN_TAG,\n",
    "            \"formula\": formula,\n",
    "            \"energy_above_hull\": float(ehull)\n",
    "        })\n",
    "\n",
    "rows.sort(key=lambda r: r[\"energy_above_hull\"])\n",
    "\n",
    "candidates_csv = RESULTS_DIR / \"candidates.csv\"\n",
    "with open(candidates_csv, \"w\", newline=\"\") as f:\n",
    "    w = csv.DictWriter(f, fieldnames=[\"cif_file\",\"source_file\",\"formula\",\"energy_above_hull\"])\n",
    "    w.writeheader()\n",
    "    w.writerows(rows)\n",
    "\n",
    "print(f\"候选数量: {len(rows)}\")\n",
    "print(f\"已写入: {candidates_csv}\")\n"
   ]
  },
  {
   "cell_type": "code",
   "execution_count": null,
   "id": "32e38a96",
   "metadata": {},
   "outputs": [],
   "source": [
    "# Cell 6: 可视化\n",
    "!python visualize_structures.py --candidates \"{candidates_csv}\" --top 24 --output_dir \"{PROJ}/results/visualizations/{RUN_TAG}\" --format html --bonding crystal --supercell auto --plot_size 1000 --verbose\n",
    "print(\"可视化输出目录:\", f\"{PROJ}/results/visualizations/{RUN_TAG}\")"
   ]
  }
 ],
 "metadata": {
  "kernelspec": {
   "display_name": "mattergen",
   "language": "python",
   "name": "python3"
  },
  "language_info": {
   "codemirror_mode": {
    "name": "ipython",
    "version": 3
   },
   "file_extension": ".py",
   "mimetype": "text/x-python",
   "name": "python",
   "nbconvert_exporter": "python",
   "pygments_lexer": "ipython3",
   "version": "3.10.18"
  }
 },
 "nbformat": 4,
 "nbformat_minor": 5
}
